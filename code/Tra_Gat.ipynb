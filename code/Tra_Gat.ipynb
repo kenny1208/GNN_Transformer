{
 "cells": [
  {
   "cell_type": "code",
   "execution_count": 1,
   "metadata": {},
   "outputs": [],
   "source": [
    "import yfinance as yf\n",
    "import pandas as pd\n",
    "import os\n",
    "import numpy as np\n",
    "import torch\n",
    "import torch.nn as nn\n",
    "import torch.nn.functional as F\n",
    "from torch.utils.data import Dataset, DataLoader\n",
    "from sklearn.preprocessing import StandardScaler\n",
    "from sklearn.metrics import mean_squared_error, mean_absolute_error, r2_score"
   ]
  },
  {
   "cell_type": "code",
   "execution_count": 2,
   "metadata": {},
   "outputs": [
    {
     "name": "stdout",
     "output_type": "stream",
     "text": [
      "下載 AAPL 的資料...\n"
     ]
    },
    {
     "name": "stderr",
     "output_type": "stream",
     "text": [
      "[*********************100%***********************]  1 of 1 completed\n",
      "[*********************100%***********************]  1 of 1 completed\n"
     ]
    },
    {
     "name": "stdout",
     "output_type": "stream",
     "text": [
      "下載 MSFT 的資料...\n",
      "下載 GOOGL 的資料...\n"
     ]
    },
    {
     "name": "stderr",
     "output_type": "stream",
     "text": [
      "[*********************100%***********************]  1 of 1 completed\n",
      "[*********************100%***********************]  1 of 1 completed\n"
     ]
    },
    {
     "name": "stdout",
     "output_type": "stream",
     "text": [
      "下載 AMZN 的資料...\n",
      "下載 TSLA 的資料...\n"
     ]
    },
    {
     "name": "stderr",
     "output_type": "stream",
     "text": [
      "[*********************100%***********************]  1 of 1 completed\n",
      "[*********************100%***********************]  1 of 1 completed\n"
     ]
    },
    {
     "name": "stdout",
     "output_type": "stream",
     "text": [
      "下載 NVDA 的資料...\n",
      "下載 JPM 的資料...\n"
     ]
    },
    {
     "name": "stderr",
     "output_type": "stream",
     "text": [
      "[*********************100%***********************]  1 of 1 completed\n"
     ]
    },
    {
     "name": "stdout",
     "output_type": "stream",
     "text": [
      "下載 V 的資料...\n"
     ]
    },
    {
     "name": "stderr",
     "output_type": "stream",
     "text": [
      "[*********************100%***********************]  1 of 1 completed\n"
     ]
    },
    {
     "name": "stdout",
     "output_type": "stream",
     "text": [
      "下載 DIS 的資料...\n"
     ]
    },
    {
     "name": "stderr",
     "output_type": "stream",
     "text": [
      "[*********************100%***********************]  1 of 1 completed\n"
     ]
    },
    {
     "name": "stdout",
     "output_type": "stream",
     "text": [
      "下載 NFLX 的資料...\n"
     ]
    },
    {
     "name": "stderr",
     "output_type": "stream",
     "text": [
      "[*********************100%***********************]  1 of 1 completed"
     ]
    },
    {
     "name": "stdout",
     "output_type": "stream",
     "text": [
      "Price       Adj Close      Close       High        Low       Open     Volume\n",
      "Ticker           AAPL       AAPL       AAPL       AAPL       AAPL       AAPL\n",
      "Date                                                                        \n",
      "2020-01-02  72.716080  75.087502  75.150002  73.797501  74.059998  135480400\n",
      "2020-01-03  72.009132  74.357498  75.144997  74.125000  74.287498  146322800\n",
      "2020-01-06  72.582909  74.949997  74.989998  73.187500  73.447502  118387200\n",
      "2020-01-07  72.241547  74.597504  75.224998  74.370003  74.959999  108872000\n",
      "2020-01-08  73.403648  75.797501  76.110001  74.290001  74.290001  132079200\n"
     ]
    },
    {
     "name": "stderr",
     "output_type": "stream",
     "text": [
      "\n"
     ]
    }
   ],
   "source": [
    "tickers = ['AAPL', 'MSFT', 'GOOGL', 'AMZN', 'TSLA', 'NVDA', 'JPM', 'V', 'DIS', 'NFLX']\n",
    "start_date = '2020-01-01'\n",
    "end_date = '2024-01-01'\n",
    "\n",
    "data_dir = \"data\"\n",
    "if not os.path.exists(data_dir):\n",
    "    os.makedirs(data_dir)\n",
    "\n",
    "data_dict = {}\n",
    "for ticker in tickers:\n",
    "    file_path = os.path.join(data_dir, f\"{ticker}.csv\")\n",
    "    if os.path.exists(file_path):\n",
    "        # 若檔案已存在，則直接讀取\n",
    "        print(f\"載入 {ticker} 的本地資料...\")\n",
    "        df = pd.read_csv(file_path, index_col=\"Date\", parse_dates=True)\n",
    "    else:\n",
    "        # 檔案不存在，則下載並存檔\n",
    "        print(f\"下載 {ticker} 的資料...\")\n",
    "        df = yf.download(ticker, start=start_date, end=end_date, auto_adjust=False)\n",
    "        df.to_csv(file_path)\n",
    "    data_dict[ticker] = df\n",
    "\n",
    "# 測試：印出某隻股票的前五筆資料\n",
    "print(data_dict['AAPL'].head())"
   ]
  },
  {
   "cell_type": "code",
   "execution_count": 3,
   "metadata": {},
   "outputs": [],
   "source": [
    "# 定義技術指標計算函數\n",
    "def compute_technical_indicators(df):\n",
    "    df = df.copy()\n",
    "    # 移動平均線\n",
    "    df['MA10'] = df['Close'].rolling(window=10).mean()\n",
    "    df['MA50'] = df['Close'].rolling(window=50).mean()\n",
    "    \n",
    "    # RSI (14 天)\n",
    "    delta = df['Close'].diff()\n",
    "    gain = delta.clip(lower=0)\n",
    "    loss = -delta.clip(upper=0)\n",
    "    avg_gain = gain.rolling(window=14).mean()\n",
    "    avg_loss = loss.rolling(window=14).mean()\n",
    "    rs = avg_gain / (avg_loss + 1e-6)\n",
    "    df['RSI'] = 100 - (100 / (1 + rs))\n",
    "    \n",
    "    # Bollinger Bands (20 天)\n",
    "    df['MA20'] = df['Close'].rolling(window=20).mean()\n",
    "    df['STD20'] = df['Close'].rolling(window=20).std()\n",
    "    df['Bollinger_Upper'] = df['MA20'] + 2 * df['STD20']\n",
    "    df['Bollinger_Lower'] = df['MA20'] - 2 * df['STD20']\n",
    "    \n",
    "    df.dropna(inplace=True)\n",
    "    return df\n",
    "\n",
    "# 為每支股票計算技術指標\n",
    "for ticker in tickers:\n",
    "    data_dict[ticker] = compute_technical_indicators(data_dict[ticker])\n",
    "\n",
    "# 取所有股票的共同日期（避免因交易日不同而導致對齊問題）\n",
    "common_dates = set.intersection(*[set(df.index) for df in data_dict.values()])\n",
    "common_dates = sorted(list(common_dates))\n",
    "for ticker in tickers:\n",
    "    data_dict[ticker] = data_dict[ticker].loc[common_dates]"
   ]
  },
  {
   "cell_type": "markdown",
   "metadata": {},
   "source": [
    "## data process"
   ]
  },
  {
   "cell_type": "code",
   "execution_count": 4,
   "metadata": {},
   "outputs": [
    {
     "name": "stderr",
     "output_type": "stream",
     "text": [
      "/tmp/ipykernel_18713/1612388131.py:22: DeprecationWarning: Conversion of an array with ndim > 0 to a scalar is deprecated, and will error in future. Ensure you extract a single element from your array before performing this operation. (Deprecated NumPy 1.25.)\n",
      "  y[i, stock_idx] = close_array[i+window_size]  # 預測下一日收盤價\n",
      "/tmp/ipykernel_18713/1612388131.py:22: DeprecationWarning: Conversion of an array with ndim > 0 to a scalar is deprecated, and will error in future. Ensure you extract a single element from your array before performing this operation. (Deprecated NumPy 1.25.)\n",
      "  y[i, stock_idx] = close_array[i+window_size]  # 預測下一日收盤價\n",
      "/tmp/ipykernel_18713/1612388131.py:22: DeprecationWarning: Conversion of an array with ndim > 0 to a scalar is deprecated, and will error in future. Ensure you extract a single element from your array before performing this operation. (Deprecated NumPy 1.25.)\n",
      "  y[i, stock_idx] = close_array[i+window_size]  # 預測下一日收盤價\n",
      "/tmp/ipykernel_18713/1612388131.py:22: DeprecationWarning: Conversion of an array with ndim > 0 to a scalar is deprecated, and will error in future. Ensure you extract a single element from your array before performing this operation. (Deprecated NumPy 1.25.)\n",
      "  y[i, stock_idx] = close_array[i+window_size]  # 預測下一日收盤價\n",
      "/tmp/ipykernel_18713/1612388131.py:22: DeprecationWarning: Conversion of an array with ndim > 0 to a scalar is deprecated, and will error in future. Ensure you extract a single element from your array before performing this operation. (Deprecated NumPy 1.25.)\n",
      "  y[i, stock_idx] = close_array[i+window_size]  # 預測下一日收盤價\n",
      "/tmp/ipykernel_18713/1612388131.py:22: DeprecationWarning: Conversion of an array with ndim > 0 to a scalar is deprecated, and will error in future. Ensure you extract a single element from your array before performing this operation. (Deprecated NumPy 1.25.)\n",
      "  y[i, stock_idx] = close_array[i+window_size]  # 預測下一日收盤價\n",
      "/tmp/ipykernel_18713/1612388131.py:22: DeprecationWarning: Conversion of an array with ndim > 0 to a scalar is deprecated, and will error in future. Ensure you extract a single element from your array before performing this operation. (Deprecated NumPy 1.25.)\n",
      "  y[i, stock_idx] = close_array[i+window_size]  # 預測下一日收盤價\n",
      "/tmp/ipykernel_18713/1612388131.py:22: DeprecationWarning: Conversion of an array with ndim > 0 to a scalar is deprecated, and will error in future. Ensure you extract a single element from your array before performing this operation. (Deprecated NumPy 1.25.)\n",
      "  y[i, stock_idx] = close_array[i+window_size]  # 預測下一日收盤價\n",
      "/tmp/ipykernel_18713/1612388131.py:22: DeprecationWarning: Conversion of an array with ndim > 0 to a scalar is deprecated, and will error in future. Ensure you extract a single element from your array before performing this operation. (Deprecated NumPy 1.25.)\n",
      "  y[i, stock_idx] = close_array[i+window_size]  # 預測下一日收盤價\n",
      "/tmp/ipykernel_18713/1612388131.py:22: DeprecationWarning: Conversion of an array with ndim > 0 to a scalar is deprecated, and will error in future. Ensure you extract a single element from your array before performing this operation. (Deprecated NumPy 1.25.)\n",
      "  y[i, stock_idx] = close_array[i+window_size]  # 預測下一日收盤價\n"
     ]
    }
   ],
   "source": [
    "# 設定使用之特徵\n",
    "features_list = ['Close', 'Volume', 'MA10', 'MA50', 'RSI', 'Bollinger_Upper', 'Bollinger_Lower']\n",
    "num_features = len(features_list)\n",
    "num_stocks = len(tickers)\n",
    "\n",
    "# 使用滑動視窗法構建資料樣本：以過去 30 日數據預測第 31 日收盤價\n",
    "window_size = 30\n",
    "num_samples = len(common_dates) - window_size\n",
    "\n",
    "# 初始化 X 與 y\n",
    "# X 的 shape 為 (num_samples, num_stocks, window_size, num_features)\n",
    "# y 的 shape 為 (num_samples, num_stocks)\n",
    "X = np.zeros((num_samples, num_stocks, window_size, num_features))\n",
    "y = np.zeros((num_samples, num_stocks))\n",
    "\n",
    "for stock_idx, ticker in enumerate(tickers):\n",
    "    df = data_dict[ticker]\n",
    "    data_array = df[features_list].values  # shape (T, num_features)\n",
    "    close_array = df['Close'].values         # shape (T,)\n",
    "    for i in range(num_samples):\n",
    "        X[i, stock_idx] = data_array[i:i+window_size]\n",
    "        y[i, stock_idx] = close_array[i+window_size]  # 預測下一日收盤價\n",
    "\n",
    "# 標準化特徵（所有樣本共用一組 scaler）\n",
    "scaler = StandardScaler()\n",
    "X_reshaped = X.reshape(-1, num_features)\n",
    "X_scaled = scaler.fit_transform(X_reshaped)\n",
    "X = X_scaled.reshape(num_samples, num_stocks, window_size, num_features)\n",
    "\n",
    "# 切分訓練/測試集（80% 訓練，20% 測試）\n",
    "split_idx = int(num_samples * 0.8)\n",
    "X_train = X[:split_idx]\n",
    "y_train = y[:split_idx]\n",
    "X_test = X[split_idx:]\n",
    "y_test = y[split_idx:]"
   ]
  },
  {
   "cell_type": "code",
   "execution_count": 5,
   "metadata": {},
   "outputs": [],
   "source": [
    "class StockDataset(Dataset):\n",
    "    def __init__(self, X, y):\n",
    "        # X: (num_samples, num_stocks, window_size, features)\n",
    "        # y: (num_samples, num_stocks)\n",
    "        self.X = X\n",
    "        self.y = y\n",
    "        \n",
    "    def __len__(self):\n",
    "        return self.X.shape[0]\n",
    "    \n",
    "    def __getitem__(self, idx):\n",
    "        return self.X[idx], self.y[idx]\n",
    "\n",
    "train_dataset = StockDataset(X_train, y_train)\n",
    "test_dataset = StockDataset(X_test, y_test)\n",
    "train_loader = DataLoader(train_dataset, batch_size=32, shuffle=True)\n",
    "test_loader  = DataLoader(test_dataset, batch_size=32, shuffle=False)"
   ]
  },
  {
   "cell_type": "code",
   "execution_count": 11,
   "metadata": {},
   "outputs": [],
   "source": [
    "# 使用訓練集期間的收盤價來計算各股票間皮爾遜相關係數\n",
    "train_dates = common_dates[window_size:split_idx+window_size]  # 標籤開始的日期\n",
    "prices_train = []\n",
    "for ticker in tickers:\n",
    "    df = data_dict[ticker]\n",
    "    prices = df['Close'].loc[train_dates].values\n",
    "    prices_train.append(prices)\n",
    "prices_train = np.array(prices_train)  # shape: (num_stocks, num_train_days)\n",
    "prices_train = np.squeeze(prices_train, axis=-1) #不知道為啥多一維\n",
    "\n",
    "corr_matrix = np.corrcoef(prices_train)\n",
    "threshold = 0.5\n",
    "# 構造鄰接矩陣：若相關係數絕對值大於門檻則視為連接\n",
    "adj_matrix = (np.abs(corr_matrix) > threshold).astype(np.float32)\n",
    "# 加入自迴路\n",
    "np.fill_diagonal(adj_matrix, 1.0)\n",
    "adj_tensor = torch.tensor(adj_matrix)"
   ]
  },
  {
   "cell_type": "markdown",
   "metadata": {},
   "source": [
    "## Model defined"
   ]
  },
  {
   "cell_type": "code",
   "execution_count": 13,
   "metadata": {},
   "outputs": [],
   "source": [
    "# 4.1 Transformer 模組（處理時間序列）\n",
    "class TimeSeriesTransformer(nn.Module):\n",
    "    def __init__(self, feature_size, d_model, nhead, num_layers, dropout=0.1):\n",
    "        super(TimeSeriesTransformer, self).__init__()\n",
    "        self.input_linear = nn.Linear(feature_size, d_model)\n",
    "        encoder_layer = nn.TransformerEncoderLayer(d_model=d_model, nhead=nhead, dropout=dropout)\n",
    "        self.transformer_encoder = nn.TransformerEncoder(encoder_layer, num_layers=num_layers)\n",
    "        \n",
    "    def forward(self, x):\n",
    "        # x: (batch, seq_len, feature_size)\n",
    "        x = self.input_linear(x)         # (batch, seq_len, d_model)\n",
    "        x = x.transpose(0, 1)            # (seq_len, batch, d_model)\n",
    "        x = self.transformer_encoder(x)  # (seq_len, batch, d_model)\n",
    "        x = x.mean(dim=0)                # (batch, d_model) 使用均值池化\n",
    "        return x\n",
    "\n",
    "# 4.2 GAT 模組（學習股票間關聯）\n",
    "class GraphAttentionLayer(nn.Module):\n",
    "    def __init__(self, in_features, out_features, dropout=0.1, alpha=0.2):\n",
    "        super(GraphAttentionLayer, self).__init__()\n",
    "        self.W = nn.Linear(in_features, out_features, bias=False)\n",
    "        self.a = nn.Linear(2*out_features, 1, bias=False)\n",
    "        self.leakyrelu = nn.LeakyReLU(alpha)\n",
    "        self.dropout = nn.Dropout(dropout)\n",
    "        \n",
    "    def forward(self, h, adj):\n",
    "        # h: (N, in_features)，其中 N 為股票數\n",
    "        Wh = self.W(h)  # (N, out_features)\n",
    "        N = Wh.size(0)\n",
    "        # 計算所有節點對的 attention 分數\n",
    "        # 先組合所有 (Wh_i || Wh_j)\n",
    "        a_input = torch.cat([Wh.repeat(1, N).view(N*N, -1), Wh.repeat(N, 1)], dim=1)\n",
    "        a_input = a_input.view(N, N, -1)  # (N, N, 2*out_features)\n",
    "        e = self.leakyrelu(self.a(a_input)).squeeze(2)  # (N, N)\n",
    "        \n",
    "        # 掩蔽非鄰居節點：將無連接處的分數設為 -inf\n",
    "        zero_vec = -9e15 * torch.ones_like(e)\n",
    "        attention = torch.where(adj > 0, e, zero_vec)\n",
    "        attention = F.softmax(attention, dim=1)\n",
    "        attention = self.dropout(attention)\n",
    "        h_prime = torch.matmul(attention, Wh)\n",
    "        return h_prime, attention\n",
    "\n",
    "# 4.3 融合層：將 Transformer 與 GAT 的輸出結合\n",
    "class FusionMLP(nn.Module):\n",
    "    def __init__(self, in_features, hidden_size, out_features):\n",
    "        super(FusionMLP, self).__init__()\n",
    "        self.mlp = nn.Sequential(\n",
    "            nn.Linear(in_features, hidden_size),\n",
    "            nn.ReLU(),\n",
    "            nn.Linear(hidden_size, out_features)\n",
    "        )\n",
    "    def forward(self, x):\n",
    "        return self.mlp(x)"
   ]
  },
  {
   "cell_type": "code",
   "execution_count": 14,
   "metadata": {},
   "outputs": [],
   "source": [
    "# 4.4 完整 TGNN 模型：對每支股票先用 Transformer 得到時間特徵，再利用 GAT 學習股票間關聯，最後融合預測未來收盤價\n",
    "class TGNN(nn.Module):\n",
    "    def __init__(self, feature_size, d_model, nhead, num_layers, gat_hidden, fusion_hidden):\n",
    "        super(TGNN, self).__init__()\n",
    "        self.transformer = TimeSeriesTransformer(feature_size, d_model, nhead, num_layers)\n",
    "        self.gat = GraphAttentionLayer(d_model, gat_hidden)\n",
    "        # 融合層輸入為 [Transformer 輸出 (d_model) || GAT 輸出 (gat_hidden)]\n",
    "        self.fusion = FusionMLP(d_model + gat_hidden, fusion_hidden, 1)  # 每支股票預測一個數值\n",
    "        \n",
    "    def forward(self, x, adj):\n",
    "        # x: (num_stocks, window_size, feature_size)\n",
    "        num_stocks = x.size(0)\n",
    "        transformer_outputs = []\n",
    "        # 分別處理每支股票的時間序列\n",
    "        for i in range(num_stocks):\n",
    "            xi = x[i].unsqueeze(0)  # (1, window_size, feature_size)\n",
    "            hi = self.transformer(xi)  # (1, d_model)\n",
    "            transformer_outputs.append(hi)\n",
    "        transformer_outputs = torch.cat(transformer_outputs, dim=0)  # (num_stocks, d_model)\n",
    "        \n",
    "        # 利用 GAT 模組捕捉股票間關聯\n",
    "        gat_output, _ = self.gat(transformer_outputs, adj)\n",
    "        # 融合兩者資訊\n",
    "        fusion_input = torch.cat([transformer_outputs, gat_output], dim=1)  # (num_stocks, d_model + gat_hidden)\n",
    "        prediction = self.fusion(fusion_input)  # (num_stocks, 1)\n",
    "        prediction = prediction.squeeze(1)       # (num_stocks)\n",
    "        return prediction"
   ]
  },
  {
   "cell_type": "markdown",
   "metadata": {},
   "source": [
    "## Train"
   ]
  },
  {
   "cell_type": "code",
   "execution_count": 16,
   "metadata": {},
   "outputs": [
    {
     "name": "stderr",
     "output_type": "stream",
     "text": [
      "/home/kenny1208/anaconda3/envs/Torch/lib/python3.10/site-packages/torch/nn/modules/transformer.py:307: UserWarning: enable_nested_tensor is True, but self.use_nested_tensor is False because encoder_layer.self_attn.batch_first was not True(use batch_first for better inference performance)\n",
      "  warnings.warn(f\"enable_nested_tensor is True, but self.use_nested_tensor is False because {why_not_sparsity_fast_path}\")\n"
     ]
    },
    {
     "name": "stdout",
     "output_type": "stream",
     "text": [
      "開始訓練...\n",
      "Epoch 1/50, Train Loss: 44587.9990\n",
      "Epoch 1/50, Test Loss: 45232.2757\n",
      "Epoch 2/50, Train Loss: 38282.5768\n",
      "Epoch 2/50, Test Loss: 32988.5565\n",
      "Epoch 3/50, Train Loss: 23317.6559\n",
      "Epoch 3/50, Test Loss: 14817.0525\n",
      "Epoch 4/50, Train Loss: 11657.8856\n",
      "Epoch 4/50, Test Loss: 5777.9952\n",
      "Epoch 5/50, Train Loss: 8019.2314\n",
      "Epoch 5/50, Test Loss: 5338.6648\n",
      "Epoch 6/50, Train Loss: 7157.2789\n",
      "Epoch 6/50, Test Loss: 3402.1003\n",
      "Epoch 7/50, Train Loss: 5095.0245\n",
      "Epoch 7/50, Test Loss: 2649.8622\n",
      "Epoch 8/50, Train Loss: 4214.4008\n",
      "Epoch 8/50, Test Loss: 2474.3503\n",
      "Epoch 9/50, Train Loss: 3522.5104\n",
      "Epoch 9/50, Test Loss: 2850.5775\n",
      "Epoch 10/50, Train Loss: 3359.2849\n",
      "Epoch 10/50, Test Loss: 2040.3230\n",
      "Epoch 11/50, Train Loss: 2740.5791\n",
      "Epoch 11/50, Test Loss: 1974.6245\n",
      "Epoch 12/50, Train Loss: 2244.7951\n",
      "Epoch 12/50, Test Loss: 1646.3481\n",
      "Epoch 13/50, Train Loss: 2240.1051\n",
      "Epoch 13/50, Test Loss: 1351.8825\n",
      "Epoch 14/50, Train Loss: 1775.7283\n",
      "Epoch 14/50, Test Loss: 1090.8639\n",
      "Epoch 15/50, Train Loss: 1660.9697\n",
      "Epoch 15/50, Test Loss: 1121.9512\n",
      "Epoch 16/50, Train Loss: 1474.9267\n",
      "Epoch 16/50, Test Loss: 941.2321\n",
      "Epoch 17/50, Train Loss: 1223.1889\n",
      "Epoch 17/50, Test Loss: 792.2793\n",
      "Epoch 18/50, Train Loss: 1135.0477\n",
      "Epoch 18/50, Test Loss: 787.9356\n",
      "Epoch 19/50, Train Loss: 1004.2726\n",
      "Epoch 19/50, Test Loss: 479.0642\n",
      "Epoch 20/50, Train Loss: 869.9065\n",
      "Epoch 20/50, Test Loss: 566.3957\n",
      "Epoch 21/50, Train Loss: 885.3937\n",
      "Epoch 21/50, Test Loss: 574.0308\n",
      "Epoch 22/50, Train Loss: 732.1181\n",
      "Epoch 22/50, Test Loss: 380.9956\n",
      "Epoch 23/50, Train Loss: 648.7248\n",
      "Epoch 23/50, Test Loss: 454.0390\n",
      "Epoch 24/50, Train Loss: 529.3624\n",
      "Epoch 24/50, Test Loss: 443.9971\n",
      "Epoch 25/50, Train Loss: 465.5706\n",
      "Epoch 25/50, Test Loss: 298.2542\n",
      "Epoch 26/50, Train Loss: 352.1815\n",
      "Epoch 26/50, Test Loss: 285.4935\n",
      "Epoch 27/50, Train Loss: 347.1927\n",
      "Epoch 27/50, Test Loss: 379.1401\n",
      "Epoch 28/50, Train Loss: 300.2817\n",
      "Epoch 28/50, Test Loss: 382.8710\n",
      "Epoch 29/50, Train Loss: 252.0348\n",
      "Epoch 29/50, Test Loss: 315.4656\n",
      "Epoch 30/50, Train Loss: 263.6121\n",
      "Epoch 30/50, Test Loss: 316.5539\n",
      "Epoch 31/50, Train Loss: 272.8568\n",
      "Epoch 31/50, Test Loss: 733.7211\n",
      "Epoch 32/50, Train Loss: 286.9510\n",
      "Epoch 32/50, Test Loss: 285.7088\n",
      "Epoch 33/50, Train Loss: 245.1611\n",
      "Epoch 33/50, Test Loss: 250.9135\n",
      "Epoch 34/50, Train Loss: 208.7590\n",
      "Epoch 34/50, Test Loss: 267.3873\n",
      "Epoch 35/50, Train Loss: 199.9311\n",
      "Epoch 35/50, Test Loss: 242.6706\n",
      "Epoch 36/50, Train Loss: 206.7016\n",
      "Epoch 36/50, Test Loss: 317.3749\n",
      "Epoch 37/50, Train Loss: 225.8413\n",
      "Epoch 37/50, Test Loss: 310.1028\n",
      "Epoch 38/50, Train Loss: 162.0069\n",
      "Epoch 38/50, Test Loss: 344.5499\n",
      "Epoch 39/50, Train Loss: 165.7317\n",
      "Epoch 39/50, Test Loss: 265.8706\n",
      "Epoch 40/50, Train Loss: 162.7068\n",
      "Epoch 40/50, Test Loss: 262.5498\n",
      "Epoch 41/50, Train Loss: 159.7594\n",
      "Epoch 41/50, Test Loss: 299.4200\n",
      "Epoch 42/50, Train Loss: 169.5866\n",
      "Epoch 42/50, Test Loss: 239.2722\n",
      "Epoch 43/50, Train Loss: 147.8071\n",
      "Epoch 43/50, Test Loss: 268.9868\n",
      "Epoch 44/50, Train Loss: 151.2588\n",
      "Epoch 44/50, Test Loss: 303.0145\n",
      "Epoch 45/50, Train Loss: 157.7297\n",
      "Epoch 45/50, Test Loss: 538.7139\n",
      "Epoch 46/50, Train Loss: 153.4835\n",
      "Epoch 46/50, Test Loss: 271.8532\n",
      "Epoch 47/50, Train Loss: 128.7911\n",
      "Epoch 47/50, Test Loss: 217.0377\n",
      "Epoch 48/50, Train Loss: 129.1376\n",
      "Epoch 48/50, Test Loss: 352.0772\n",
      "Epoch 49/50, Train Loss: 125.8650\n",
      "Epoch 49/50, Test Loss: 202.6953\n",
      "Epoch 50/50, Train Loss: 124.9355\n",
      "Epoch 50/50, Test Loss: 230.8336\n"
     ]
    },
    {
     "data": {
      "image/png": "[encoded data removed]",
      "text/plain": [
       "<Figure size 1000x500 with 1 Axes>"
      ]
     },
     "metadata": {},
     "output_type": "display_data"
    }
   ],
   "source": [
    "import matplotlib.pyplot as plt\n",
    "\n",
    "device = torch.device(\"cuda\" if torch.cuda.is_available() else \"cpu\")\n",
    "\n",
    "# 模型超參數設定\n",
    "feature_size = num_features\n",
    "d_model = 64\n",
    "nhead = 4\n",
    "num_layers = 2\n",
    "gat_hidden = 32\n",
    "fusion_hidden = 64\n",
    "\n",
    "# 實例化模型\n",
    "model = TGNN(feature_size, d_model, nhead, num_layers, gat_hidden, fusion_hidden).to(device)\n",
    "\n",
    "criterion = nn.MSELoss()\n",
    "optimizer = torch.optim.Adam(model.parameters(), lr=0.001)\n",
    "num_epochs = 50\n",
    "\n",
    "train_losses = []\n",
    "test_losses = []\n",
    "\n",
    "print(\"開始訓練...\")\n",
    "model.train()\n",
    "for epoch in range(num_epochs):\n",
    "    train_loss = 0.0\n",
    "    for batch_X, batch_y in train_loader:\n",
    "        batch_X = batch_X.to(device).float()\n",
    "        batch_y = batch_y.to(device).float()\n",
    "        \n",
    "        optimizer.zero_grad()\n",
    "        batch_loss = 0.0\n",
    "        for i in range(batch_X.size(0)):\n",
    "            x_sample = batch_X[i]\n",
    "            y_sample = batch_y[i]\n",
    "            pred = model(x_sample, adj_tensor.to(device))\n",
    "            loss = criterion(pred, y_sample)\n",
    "            batch_loss += loss\n",
    "        batch_loss = batch_loss / batch_X.size(0)\n",
    "        batch_loss.backward()\n",
    "        optimizer.step()\n",
    "        train_loss += batch_loss.item() * batch_X.size(0)\n",
    "    train_loss /= len(train_dataset)\n",
    "    train_losses.append(train_loss)\n",
    "    print(f\"Epoch {epoch+1}/{num_epochs}, Train Loss: {train_loss:.4f}\")\n",
    "\n",
    "    # 計算測試集損失\n",
    "    model.eval()\n",
    "    test_loss = 0.0\n",
    "    with torch.no_grad():\n",
    "        for batch_X, batch_y in test_loader:\n",
    "            batch_X = batch_X.to(device).float()\n",
    "            batch_y = batch_y.to(device).float()\n",
    "            batch_loss = 0.0\n",
    "            for i in range(batch_X.size(0)):\n",
    "                x_sample = batch_X[i]\n",
    "                y_sample = batch_y[i]\n",
    "                pred = model(x_sample, adj_tensor.to(device))\n",
    "                loss = criterion(pred, y_sample)\n",
    "                batch_loss += loss\n",
    "            batch_loss = batch_loss / batch_X.size(0)\n",
    "            test_loss += batch_loss.item() * batch_X.size(0)\n",
    "    test_loss /= len(test_dataset)\n",
    "    test_losses.append(test_loss)\n",
    "    print(f\"Epoch {epoch+1}/{num_epochs}, Test Loss: {test_loss:.4f}\")\n",
    "    model.train()\n",
    "\n",
    "# 繪製訓練損失和測試損失\n",
    "plt.figure(figsize=(10, 5))\n",
    "plt.plot(train_losses, label='Train Loss')\n",
    "plt.plot(test_losses, label='Test Loss')\n",
    "plt.xlabel('Epoch')\n",
    "plt.ylabel('Loss')\n",
    "plt.legend()\n",
    "plt.title('Train and Test Loss')\n",
    "plt.show()"
   ]
  },
  {
   "cell_type": "code",
   "execution_count": 17,
   "metadata": {},
   "outputs": [
    {
     "name": "stdout",
     "output_type": "stream",
     "text": [
      "\n",
      "Test RMSE: 15.1932, MAE: 9.9602, R2: 0.9807\n"
     ]
    }
   ],
   "source": [
    "model.eval()\n",
    "all_preds = []\n",
    "all_labels = []\n",
    "with torch.no_grad():\n",
    "    for batch_X, batch_y in test_loader:\n",
    "        batch_X = batch_X.to(device).float()\n",
    "        batch_y = batch_y.to(device).float()\n",
    "        for i in range(batch_X.size(0)):\n",
    "            x_sample = batch_X[i]\n",
    "            y_sample = batch_y[i]\n",
    "            pred = model(x_sample, adj_tensor.to(device))\n",
    "            all_preds.append(pred.cpu().numpy())\n",
    "            all_labels.append(y_sample.cpu().numpy())\n",
    "\n",
    "all_preds = np.array(all_preds)    # (num_test_samples, num_stocks)\n",
    "all_labels = np.array(all_labels)  # (num_test_samples, num_stocks)\n",
    "\n",
    "# 評估指標計算\n",
    "rmse = np.sqrt(mean_squared_error(all_labels.flatten(), all_preds.flatten()))\n",
    "mae  = mean_absolute_error(all_labels.flatten(), all_preds.flatten())\n",
    "r2   = r2_score(all_labels.flatten(), all_preds.flatten())\n",
    "print(f\"\\nTest RMSE: {rmse:.4f}, MAE: {mae:.4f}, R2: {r2:.4f}\")"
   ]
  },
  {
   "cell_type": "code",
   "execution_count": 18,
   "metadata": {},
   "outputs": [
    {
     "name": "stdout",
     "output_type": "stream",
     "text": [
      "最終總損益 (Total PnL): -261.5707778930664\n",
      "平均每日損益 (Avg Daily PnL): -1.413896096719278\n"
     ]
    },
    {
     "data": {
      "image/png": "[encoded data removed]",
      "text/plain": [
       "<Figure size 800x400 with 1 Axes>"
      ]
     },
     "metadata": {},
     "output_type": "display_data"
    }
   ],
   "source": [
    "import numpy as np\n",
    "import matplotlib.pyplot as plt\n",
    "\n",
    "def simple_backtest(all_preds, all_labels):\n",
    "    \"\"\"\n",
    "    all_preds  : (num_test_samples, num_stocks) - 模型預測收盤價\n",
    "    all_labels : (num_test_samples, num_stocks) - 真實收盤價\n",
    "    假設 all_labels[t, s] 與 all_preds[t, s] 代表同一天 (例如 day t+1) 的收盤價。\n",
    "    \n",
    "    策略: \n",
    "      - 若預測值 > 昨日真實收盤價，則多頭進場，損益 = 今日收盤價 - 昨日收盤價\n",
    "      - 否則空頭進場，損益 = 昨日收盤價 - 今日收盤價\n",
    "    \n",
    "    注意:\n",
    "      - 第 0 筆沒有 \"昨日收盤價\" 參考，故回測從 t=1 開始。\n",
    "    \"\"\"\n",
    "\n",
    "    num_samples = all_preds.shape[0]\n",
    "    num_stocks = all_preds.shape[1]\n",
    "\n",
    "    daily_pnls = []\n",
    "    cum_pnls = []\n",
    "    total_pnl = 0.0\n",
    "\n",
    "    # 從 t=1 開始，因為 t=0 沒有前一天資料\n",
    "    for t in range(1, num_samples):\n",
    "        day_pnl = 0.0\n",
    "        for s in range(num_stocks):\n",
    "            # 昨日收盤價 (t-1)\n",
    "            day_t_minus_1_close = all_labels[t-1, s]\n",
    "            # 今日收盤價 (t)\n",
    "            day_t_close = all_labels[t, s]\n",
    "            # 模型預測今日收盤價\n",
    "            pred_t_close = all_preds[t, s]\n",
    "\n",
    "            if pred_t_close > day_t_minus_1_close:\n",
    "                # 做多\n",
    "                day_pnl += (day_t_close - day_t_minus_1_close)\n",
    "            else:\n",
    "                # 做空\n",
    "                day_pnl += (day_t_minus_1_close - day_t_close)\n",
    "\n",
    "        daily_pnls.append(day_pnl)\n",
    "        total_pnl += day_pnl\n",
    "        cum_pnls.append(total_pnl)\n",
    "\n",
    "    daily_pnls = np.array(daily_pnls)\n",
    "    cum_pnls = np.array(cum_pnls)\n",
    "\n",
    "    return daily_pnls, cum_pnls, total_pnl\n",
    "\n",
    "# 假設你已經有 all_preds, all_labels (num_test_samples, num_stocks)\n",
    "# 這裡僅示範呼叫方式：\n",
    "daily_pnls, cum_pnls, total_pnl = simple_backtest(all_preds, all_labels)\n",
    "\n",
    "print(\"最終總損益 (Total PnL):\", total_pnl)\n",
    "print(\"平均每日損益 (Avg Daily PnL):\", np.mean(daily_pnls))\n",
    "\n",
    "# 畫出累計損益曲線\n",
    "plt.figure(figsize=(8, 4))\n",
    "plt.plot(cum_pnls, label=\"Cumulative PnL\")\n",
    "plt.title(\"Backtest: Cumulative PnL\")\n",
    "plt.xlabel(\"Test Days (index)\")\n",
    "plt.ylabel(\"PnL\")\n",
    "plt.legend()\n",
    "plt.show()\n"
   ]
  }
 ],
 "metadata": {
  "kernelspec": {
   "display_name": "Torch",
   "language": "python",
   "name": "python3"
  },
  "language_info": {
   "codemirror_mode": {
    "name": "ipython",
    "version": 3
   },
   "file_extension": ".py",
   "mimetype": "text/x-python",
   "name": "python",
   "nbconvert_exporter": "python",
   "pygments_lexer": "ipython3",
   "version": "3.10.16"
  }
 },
 "nbformat": 4,
 "nbformat_minor": 2
}
